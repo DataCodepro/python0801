{
 "cells": [
  {
   "cell_type": "code",
   "execution_count": 1,
   "metadata": {},
   "outputs": [],
   "source": [
    "#.What is the difference between list and tuples in Python?\n",
    "# give examples of  common built-in data types \n",
    "#What are local variables and global variables in Python\n",
    "#.What is type conversion in Python?\n",
    "#What are functions in Python\n"
   ]
  },
  {
   "cell_type": "code",
   "execution_count": 2,
   "metadata": {},
   "outputs": [],
   "source": [
    "import pymysql"
   ]
  },
  {
   "cell_type": "code",
   "execution_count": 3,
   "metadata": {},
   "outputs": [],
   "source": [
    "mydb = pymysql.connect(\n",
    "    host = 'localhost',\n",
    "    user ='root',\n",
    "    password = 'seyilaw1',\n",
    "    database='studentmanagementsystem'\n",
    ")\n",
    "mycursor = mydb.cursor()"
   ]
  },
  {
   "cell_type": "code",
   "execution_count": 4,
   "metadata": {},
   "outputs": [
    {
     "name": "stdout",
     "output_type": "stream",
     "text": [
      "(247,)\n"
     ]
    }
   ],
   "source": [
    "mycursor.execute('select count(age) as result from studentper')\n",
    "for x in mycursor:\n",
    "    print(x)"
   ]
  },
  {
   "cell_type": "code",
   "execution_count": 12,
   "metadata": {},
   "outputs": [
    {
     "name": "stdout",
     "output_type": "stream",
     "text": [
      "(6,)\n"
     ]
    }
   ],
   "source": [
    "mycursor.execute('select count(distinct age) as result from studentper')\n",
    "for x in mycursor:\n",
    "    print(x)"
   ]
  },
  {
   "cell_type": "code",
   "execution_count": 15,
   "metadata": {},
   "outputs": [
    {
     "name": "stdout",
     "output_type": "stream",
     "text": [
      "(13, 84)\n",
      "(12, 69)\n",
      "(11, 17)\n",
      "(14, 57)\n",
      "(10, 6)\n",
      "(15, 14)\n"
     ]
    }
   ],
   "source": [
    "mycursor.execute('select age ,count( age) as result from studentper group by age')\n",
    "for x in mycursor:\n",
    "    print(x)"
   ]
  },
  {
   "cell_type": "code",
   "execution_count": 11,
   "metadata": {},
   "outputs": [
    {
     "name": "stdout",
     "output_type": "stream",
     "text": [
      "(Decimal('17127'),)\n"
     ]
    }
   ],
   "source": [
    "mycursor.execute('select sum(JS11st) as result from studentper')\n",
    "for x in mycursor:\n",
    "    print(x)"
   ]
  },
  {
   "cell_type": "code",
   "execution_count": 17,
   "metadata": {},
   "outputs": [
    {
     "name": "stdout",
     "output_type": "stream",
     "text": [
      "('OTHER', Decimal('3979'))\n",
      "('at_home', Decimal('297'))\n",
      "('TEACHER', Decimal('1948'))\n",
      "('CIVIL SERVANT', Decimal('347'))\n",
      "('ADMIN', Decimal('5523'))\n",
      "('HEALTH', Decimal('2077'))\n",
      "('POLICE', Decimal('433'))\n",
      "('CRAFT', Decimal('689'))\n",
      "('BUSINESS', Decimal('1285'))\n",
      "('FARMER', Decimal('549'))\n"
     ]
    }
   ],
   "source": [
    "mycursor.execute('select Mjob, sum(JS11st) as result from studentper group by Mjob')\n",
    "for x in mycursor:\n",
    "    print(x)"
   ]
  },
  {
   "cell_type": "code",
   "execution_count": 19,
   "metadata": {},
   "outputs": [
    {
     "name": "stdout",
     "output_type": "stream",
     "text": [
      "('M', 13, 'RURAL', 'GT3', 'T', 1, 0, 'OTHER', 'OTHER', 'mother', 3, 2, 'no', 4, 'no', 1, 'yes', 'yes', 'no', 68, 69, 70, 71, 72, 69, 72, 70)\n"
     ]
    }
   ],
   "source": [
    "mycursor.execute('select * from studentper limit 1')\n",
    "for x in mycursor:\n",
    "    print(x)"
   ]
  },
  {
   "cell_type": "code",
   "execution_count": 25,
   "metadata": {},
   "outputs": [
    {
     "name": "stdout",
     "output_type": "stream",
     "text": [
      "('M', 15, 'URBAN', 'LE3', 'A', 1, 0, 'OTHER', 'ADMIN', 'mother', 1, 0, 'no', 5, 'yes', 2, 'yes', 'no', 'no', 66, 76, 87, 82, 85, 69, 68, 81)\n",
      "('M', 15, 'RURAL', 'GT3', 'A', 0, 0, 'OTHER', 'CLEANER', 'mother', 3, 1, 'yes', 5, 'no', 2, 'no', 'no', 'yes', 69, 75, 71, 74, 81, 78, 72, 78)\n",
      "('M', 15, 'RURAL', 'GT3', 'A', 0, 0, 'OTHER', 'CLEANER', 'mother', 3, 1, 'no', 5, 'yes', 2, 'yes', 'no', 'yes', 70, 69, 68, 66, 62, 61, 68, 69)\n"
     ]
    }
   ],
   "source": [
    "mycursor.execute('select * from studentper order by age desc limit 3 ')\n",
    "for x in mycursor:\n",
    "    print(x)"
   ]
  },
  {
   "cell_type": "code",
   "execution_count": null,
   "metadata": {},
   "outputs": [],
   "source": []
  }
 ],
 "metadata": {
  "kernelspec": {
   "display_name": "Python 3.10.4 64-bit",
   "language": "python",
   "name": "python3"
  },
  "language_info": {
   "codemirror_mode": {
    "name": "ipython",
    "version": 3
   },
   "file_extension": ".py",
   "mimetype": "text/x-python",
   "name": "python",
   "nbconvert_exporter": "python",
   "pygments_lexer": "ipython3",
   "version": "3.10.4"
  },
  "orig_nbformat": 4,
  "vscode": {
   "interpreter": {
    "hash": "97a318a1c10ea3cad32b5f740e8bef65bce9a717407c951d39899fa160feabd9"
   }
  }
 },
 "nbformat": 4,
 "nbformat_minor": 2
}
