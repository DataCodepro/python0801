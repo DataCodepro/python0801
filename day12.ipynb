{
 "cells": [
  {
   "cell_type": "code",
   "execution_count": 1,
   "metadata": {},
   "outputs": [],
   "source": [
    "import pymysql"
   ]
  },
  {
   "cell_type": "code",
   "execution_count": 2,
   "metadata": {},
   "outputs": [],
   "source": [
    "mydb = pymysql.connect(\n",
    "    host = 'localhost',\n",
    "    user = 'root',\n",
    "    password = 'seyilaw1',\n",
    "    database='shoprise'\n",
    "    \n",
    ")\n",
    "mycursor = mydb.cursor()"
   ]
  },
  {
   "cell_type": "code",
   "execution_count": 3,
   "metadata": {},
   "outputs": [
    {
     "data": {
      "text/plain": [
       "0"
      ]
     },
     "execution_count": 3,
     "metadata": {},
     "output_type": "execute_result"
    }
   ],
   "source": [
    "mycursor.execute('alter table staffrecords add column staffaddress text not null')"
   ]
  },
  {
   "cell_type": "code",
   "execution_count": 4,
   "metadata": {},
   "outputs": [
    {
     "data": {
      "text/plain": [
       "0"
      ]
     },
     "execution_count": 4,
     "metadata": {},
     "output_type": "execute_result"
    }
   ],
   "source": [
    "mycursor.execute('alter table staffrecords add column staffphonenumber text not null after staffage')"
   ]
  },
  {
   "cell_type": "code",
   "execution_count": 9,
   "metadata": {},
   "outputs": [],
   "source": [
    "mycursor.execute('alter table staffrecords modify column staffphonenumber varchar(45) not null')"
   ]
  },
  {
   "cell_type": "code",
   "execution_count": 7,
   "metadata": {},
   "outputs": [
    {
     "data": {
      "text/plain": [
       "0"
      ]
     },
     "execution_count": 7,
     "metadata": {},
     "output_type": "execute_result"
    }
   ],
   "source": [
    "mycursor.execute('alter table staffrecords change column staffphonenumber staffcontact varchar(45) not null')"
   ]
  },
  {
   "cell_type": "code",
   "execution_count": 10,
   "metadata": {},
   "outputs": [
    {
     "data": {
      "text/plain": [
       "0"
      ]
     },
     "execution_count": 10,
     "metadata": {},
     "output_type": "execute_result"
    }
   ],
   "source": [
    "mycursor.execute('alter table staffrecords drop column staffaddress')"
   ]
  },
  {
   "cell_type": "code",
   "execution_count": 11,
   "metadata": {},
   "outputs": [
    {
     "data": {
      "text/plain": [
       "0"
      ]
     },
     "execution_count": 11,
     "metadata": {},
     "output_type": "execute_result"
    }
   ],
   "source": [
    "mycursor.execute('alter table staffrecords rename to staffdetails')"
   ]
  },
  {
   "cell_type": "code",
   "execution_count": 12,
   "metadata": {},
   "outputs": [],
   "source": [
    "sql = 'insert into staffdetails(id,staffname,staffgender,staffage,staffcontact) values (%s,%s,%s,%s,%s)'\n",
    "val = [(1,'Ade Herny','Male',35,'08145698775'),\n",
    "       (2,'Shasha banks','Female',25,'09156231454'),\n",
    "       (3,'Janet Lawal','Female',30,'09023659898'),\n",
    "       (4,'Akpan Okon','Male',40,'09147478898'),\n",
    "       (5,'Samuel Okoro','Male',22,'08142323265'),\n",
    "       (6,'Febian Blessing','Female',35,'09123659878')]\n",
    "mycursor.executemany(sql,val)\n",
    "mydb.commit()"
   ]
  },
  {
   "cell_type": "code",
   "execution_count": 14,
   "metadata": {},
   "outputs": [
    {
     "name": "stdout",
     "output_type": "stream",
     "text": [
      "(1, 'Ade Herny', 'Male', 35, '08145698775')\n",
      "(2, 'Shasha banks', 'Female', 25, '09156231454')\n",
      "(3, 'Janet Lawal', 'Female', 30, '09023659898')\n",
      "(4, 'Akpan Okon', 'Male', 40, '09147478898')\n",
      "(5, 'Samuel Okoro', 'Male', 22, '08142323265')\n",
      "(6, 'Febian Blessing', 'Female', 35, '09123659878')\n"
     ]
    }
   ],
   "source": [
    "mycursor.execute('select * from staffdetails')\n",
    "for x in mycursor:\n",
    "    print(x)"
   ]
  },
  {
   "cell_type": "code",
   "execution_count": 16,
   "metadata": {},
   "outputs": [
    {
     "name": "stdout",
     "output_type": "stream",
     "text": [
      "(1, 'Ade Herny', 'Male', 40, '08145698775')\n",
      "(2, 'Shasha banks', 'Female', 25, '09156231454')\n",
      "(3, 'Janet Lawal', 'Female', 30, '09023659898')\n",
      "(4, 'Akpan Okon', 'Male', 40, '09147478898')\n",
      "(5, 'Samuel Okoro', 'Male', 22, '08142323265')\n",
      "(6, 'Febian Blessing', 'Female', 35, '09123659878')\n"
     ]
    }
   ],
   "source": [
    "mycursor.execute('update staffdetails set staffage = 40 where id = 1')\n",
    "mycursor.execute('select * from staffdetails')\n",
    "for x in mycursor:\n",
    "    print(x)"
   ]
  },
  {
   "cell_type": "code",
   "execution_count": 17,
   "metadata": {},
   "outputs": [
    {
     "name": "stdout",
     "output_type": "stream",
     "text": [
      "(1, 'Ade Herny', 'Male', 40, '08145698775')\n",
      "(2, 'Shasha banks', 'Female', 25, '09156231454')\n",
      "(3, 'Janet Lawal', 'Female', 30, '09023659898')\n",
      "(4, 'Akpan Okon', 'Male', 40, '09147478898')\n",
      "(5, 'Samuel Okoro', 'Male', 22, '08142323265')\n"
     ]
    }
   ],
   "source": [
    "mycursor.execute('delete from staffdetails  where id = 6')\n",
    "mycursor.execute('select * from staffdetails')\n",
    "for x in mycursor:\n",
    "    print(x)"
   ]
  },
  {
   "cell_type": "code",
   "execution_count": 19,
   "metadata": {},
   "outputs": [
    {
     "name": "stdout",
     "output_type": "stream",
     "text": [
      "('id', 'int', 'NO', 'PRI', None, '')\n",
      "('staffname', 'varchar(255)', 'NO', '', None, '')\n",
      "('staffgender', 'varchar(12)', 'NO', '', None, '')\n",
      "('staffage', 'int', 'NO', '', None, '')\n",
      "('staffcontact', 'varchar(45)', 'NO', '', None, '')\n"
     ]
    }
   ],
   "source": [
    "mycursor.execute('describe  staffdetails')\n",
    "for x in mycursor:\n",
    "    print(x)"
   ]
  },
  {
   "cell_type": "code",
   "execution_count": null,
   "metadata": {},
   "outputs": [],
   "source": []
  }
 ],
 "metadata": {
  "kernelspec": {
   "display_name": "Python 3.10.4 64-bit",
   "language": "python",
   "name": "python3"
  },
  "language_info": {
   "codemirror_mode": {
    "name": "ipython",
    "version": 3
   },
   "file_extension": ".py",
   "mimetype": "text/x-python",
   "name": "python",
   "nbconvert_exporter": "python",
   "pygments_lexer": "ipython3",
   "version": "3.10.4"
  },
  "orig_nbformat": 4,
  "vscode": {
   "interpreter": {
    "hash": "97a318a1c10ea3cad32b5f740e8bef65bce9a717407c951d39899fa160feabd9"
   }
  }
 },
 "nbformat": 4,
 "nbformat_minor": 2
}
