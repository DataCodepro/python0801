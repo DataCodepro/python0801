{
 "cells": [
  {
   "cell_type": "code",
   "execution_count": 1,
   "metadata": {},
   "outputs": [],
   "source": [
    "#USING CLASS AND OBJECT WRITE A STUDENT MANAGEMENT SYSTEM THAT WILL PEFORME THE FOLLOWING OPERATION\n",
    "\n",
    "#ACCEPT STUDENT RECORDS\n",
    "\n",
    "#DISPLAY STUDENT RECORDS\n",
    "\n",
    "#SEARCH STUDENT RECORDS\n",
    "\n",
    "#UPDATE STUDENT RECORDS\n",
    "\n",
    "#DELETE STUDENT RECORDS YOU ARE REQUIRED TO USE A LOOP TO KEEP THE PROGRAM RUNNING UNTIL YUR SET CONDITION IS MEET\n",
    "\n",
    " "
   ]
  },
  {
   "cell_type": "code",
   "execution_count": 3,
   "metadata": {},
   "outputs": [
    {
     "name": "stdout",
     "output_type": "stream",
     "text": [
      "OPERATION USED.\n",
      "ACCEPT STUDENT\n",
      "DISPLAY STUDENT \n",
      "SEARCH DETAILS OF A STUDENT\n",
      "UPDATE DETAILS OF A STUDENT\n",
      "DELETE DETAILS OF A STUDENT\n",
      "\n"
     ]
    }
   ],
   "source": [
    "class studentmanagementsysten:\n",
    "    def __init__(self,firstname,middlename,surname,gender,dob,address,stateoforigin,seatnumber):\n",
    "        self.firstname = firstname\n",
    "        self.middlename = middlename\n",
    "        self.surname = surname\n",
    "        self.gender = gender\n",
    "        self.dob = dob\n",
    "        self.address = address\n",
    "        self.stateoforigin = stateoforigin\n",
    "        self.seatnumber = seatnumber\n",
    "    def accept(self,FIRSTNAME,MIDDLENAME,SURNAME,GENDER,DOB,ADDRESS,STATEOFORIGIN,SEATNUMBER):\n",
    "        ob = studentmanagementsysten(FIRSTNAME,MIDDLENAME,SURNAME,GENDER,DOB,ADDRESS,STATEOFORIGIN,SEATNUMBER)\n",
    "        studentlist.append(ob)\n",
    "    def display(self,ob):\n",
    "        print(f'''FIRSTNAME:{ob.firstname}\n",
    "MIDDLENAME:{ob.middlename}\n",
    "SURNAME:{ob.surname}\n",
    "GENDER:{ob.gender}\n",
    "DATEOFBIRTH:{ob.dob}\n",
    "ADDRESS:{ob.address}\n",
    "STATEOFORIGIN:{ob.stateoforigin}\n",
    "SEATNUMBER:{ob.seatnumber}\n",
    "''')\n",
    "    def search(self):\n",
    "        sn = int(input('Provide the seat number of the student you are loking for:'))\n",
    "        for i in range (len(studentlist)):\n",
    "            if (studentlist[i].seatnumber == sn):\n",
    "                return i\n",
    "    def update(self,sn,nsn):\n",
    "        i = obj.search()\n",
    "        studentlist[i].seatnumber= nsn\n",
    "    def delete(self,sn):\n",
    "        i = obj.search(sn)\n",
    "        del(studentlist[i])\n",
    "studentlist = []\n",
    "obj = studentmanagementsysten('','','','','','','',0)\n",
    "print(\"OPERATION USED.\")\n",
    "print('''ACCEPT STUDENT\n",
    "DISPLAY STUDENT \n",
    "SEARCH DETAILS OF A STUDENT\n",
    "UPDATE DETAILS OF A STUDENT\n",
    "DELETE DETAILS OF A STUDENT\n",
    "''')\n",
    "x= input('Enter y as yes and n as no to performe your operation')\n",
    "n=1\n",
    "while x == 'y':\n",
    "    choice = int(input('ENTER CHOICE:'))\n",
    "    if choice == 1:\n",
    "        obj.accept(input('FIRSTNAME'),input('MIDDLENAME'),input('SURNAME'),input('GENDER'),input('DOB'),input('ADDRESS'),input('STATEOFORIGIN'),int(input('SEATNUMBER')))\n",
    "    elif choice ==2:\n",
    "        print('LIST OF STUDENTS')\n",
    "        for i in range(len(studentlist)):\n",
    "            obj.display(studentlist[i])\n",
    "    elif choice==3:\n",
    "        s = obj.search()\n",
    "        obj.display(studentlist[s])\n",
    "    elif choice == 4:\n",
    "        obj.update(int(input('Old seatnumber')),int(input('New seatnumber')))\n",
    "        for i in range(len(studentlist)):\n",
    "            obj.display(studentlist[i])\n",
    "    elif choice ==5:\n",
    "        obj.delete(int(input('Old seatnumber')))\n",
    "        print('LIST AFTER DELETION')\n",
    "        for i in range(len(studentlist)):\n",
    "            obj.display(studentlist[i])\n",
    "    else:\n",
    "        print('INVALID OPTION TRY AGAIN')\n",
    "    x= input('Enter y as yes and n as no to performe your operation')\n",
    "    n=n+1"
   ]
  },
  {
   "cell_type": "code",
   "execution_count": null,
   "metadata": {},
   "outputs": [],
   "source": [
    "https://github.com/Emmanuel2202/python0801"
   ]
  }
 ],
 "metadata": {
  "kernelspec": {
   "display_name": "Python 3.10.4 64-bit",
   "language": "python",
   "name": "python3"
  },
  "language_info": {
   "codemirror_mode": {
    "name": "ipython",
    "version": 3
   },
   "file_extension": ".py",
   "mimetype": "text/x-python",
   "name": "python",
   "nbconvert_exporter": "python",
   "pygments_lexer": "ipython3",
   "version": "3.10.4"
  },
  "orig_nbformat": 4,
  "vscode": {
   "interpreter": {
    "hash": "97a318a1c10ea3cad32b5f740e8bef65bce9a717407c951d39899fa160feabd9"
   }
  }
 },
 "nbformat": 4,
 "nbformat_minor": 2
}
