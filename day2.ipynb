{
 "cells": [
  {
   "cell_type": "code",
   "execution_count": 1,
   "id": "696b3cae",
   "metadata": {},
   "outputs": [
    {
     "name": "stdout",
     "output_type": "stream",
     "text": [
      "15\n"
     ]
    }
   ],
   "source": [
    "num2 = int(15.5)\n",
    "print(num2)"
   ]
  },
  {
   "cell_type": "code",
   "execution_count": 2,
   "id": "b3fafbfb",
   "metadata": {},
   "outputs": [
    {
     "name": "stdout",
     "output_type": "stream",
     "text": [
      "15.0\n"
     ]
    }
   ],
   "source": [
    "num3 = 15\n",
    "print(float(num3))"
   ]
  },
  {
   "cell_type": "code",
   "execution_count": 3,
   "id": "f61c7b7b",
   "metadata": {},
   "outputs": [
    {
     "name": "stdout",
     "output_type": "stream",
     "text": [
      "15\n"
     ]
    }
   ],
   "source": [
    "print(str(num3))"
   ]
  },
  {
   "cell_type": "code",
   "execution_count": 4,
   "id": "ad914003",
   "metadata": {},
   "outputs": [
    {
     "name": "stdout",
     "output_type": "stream",
     "text": [
      "15.5\n"
     ]
    }
   ],
   "source": [
    "num4 = 15.5\n",
    "print(str(num4))"
   ]
  },
  {
   "cell_type": "code",
   "execution_count": 6,
   "id": "f6685f0f",
   "metadata": {},
   "outputs": [
    {
     "ename": "ValueError",
     "evalue": "could not convert string to float: 'python'",
     "output_type": "error",
     "traceback": [
      "\u001b[1;31m---------------------------------------------------------------------------\u001b[0m",
      "\u001b[1;31mValueError\u001b[0m                                Traceback (most recent call last)",
      "Input \u001b[1;32mIn [6]\u001b[0m, in \u001b[0;36m<cell line: 2>\u001b[1;34m()\u001b[0m\n\u001b[0;32m      1\u001b[0m word \u001b[38;5;241m=\u001b[39m \u001b[38;5;124m'\u001b[39m\u001b[38;5;124mpython\u001b[39m\u001b[38;5;124m'\u001b[39m\n\u001b[1;32m----> 2\u001b[0m \u001b[38;5;28mprint\u001b[39m(\u001b[38;5;28;43mfloat\u001b[39;49m\u001b[43m(\u001b[49m\u001b[43mword\u001b[49m\u001b[43m)\u001b[49m)\n",
      "\u001b[1;31mValueError\u001b[0m: could not convert string to float: 'python'"
     ]
    }
   ],
   "source": [
    "word = 'python'\n",
    "print(float(word))"
   ]
  },
  {
   "cell_type": "code",
   "execution_count": 7,
   "id": "88c94b79",
   "metadata": {},
   "outputs": [
    {
     "name": "stdout",
     "output_type": "stream",
     "text": [
      "50\n"
     ]
    }
   ],
   "source": [
    "num5 = int('50')\n",
    "print(num5)\n"
   ]
  },
  {
   "cell_type": "markdown",
   "id": "49466ef9",
   "metadata": {},
   "source": [
    "# operators"
   ]
  },
  {
   "cell_type": "code",
   "execution_count": 8,
   "id": "151dc30b",
   "metadata": {},
   "outputs": [
    {
     "name": "stdout",
     "output_type": "stream",
     "text": [
      "40 + 20 = 60\n",
      "40 - 20 = 20\n",
      "40 / 20 = 2.0\n",
      "40 * 20 = 800\n",
      "40 % 20 = 0\n",
      "40 // 20 = 2\n",
      "40 ** 20 = 109951162777600000000000000000000\n"
     ]
    }
   ],
   "source": [
    "num1 = 40\n",
    "num2 = 20\n",
    "print(f'{num1} + {num2} = {num1 +num2}')\n",
    "print(f'{num1} - {num2} = {num1 - num2}')\n",
    "print(f'{num1} / {num2} = {num1 /num2}')\n",
    "print(f'{num1} * {num2} = {num1 *num2}')\n",
    "print(f'{num1} % {num2} = {num1 %num2}')\n",
    "print(f'{num1} // {num2} = {num1 //num2}')\n",
    "print(f'{num1} ** {num2} = {num1 **num2}')"
   ]
  },
  {
   "cell_type": "markdown",
   "id": "8b197aae",
   "metadata": {},
   "source": [
    "# Comparisim Operators"
   ]
  },
  {
   "cell_type": "code",
   "execution_count": 9,
   "id": "48093b0c",
   "metadata": {},
   "outputs": [
    {
     "name": "stdout",
     "output_type": "stream",
     "text": [
      "40 > 20 = True\n",
      "40 < 20 = False\n",
      "40 >= 20 = True\n",
      "40 <= 20 = False\n",
      "40 == 20 = False\n",
      "40 != 20 = True\n"
     ]
    }
   ],
   "source": [
    "print(f'{num1} > {num2} = {num1 >num2}')\n",
    "print(f'{num1} < {num2} = {num1 < num2}')\n",
    "print(f'{num1} >= {num2} = {num1 >= num2}')\n",
    "print(f'{num1} <= {num2} = {num1 <= num2}')\n",
    "print(f'{num1} == {num2} = {num1 == num2}')\n",
    "print(f'{num1} != {num2} = {num1 != num2}')"
   ]
  },
  {
   "cell_type": "markdown",
   "id": "509b142e",
   "metadata": {},
   "source": [
    "# Logical operators"
   ]
  },
  {
   "cell_type": "code",
   "execution_count": 10,
   "id": "fa473891",
   "metadata": {},
   "outputs": [
    {
     "name": "stdout",
     "output_type": "stream",
     "text": [
      "False\n",
      "True\n",
      "False\n"
     ]
    }
   ],
   "source": [
    "print(num1 >num2 and num2 == num1)\n",
    "print(num1 >num2 or num2 == num1)\n",
    "print(not num1)"
   ]
  },
  {
   "cell_type": "markdown",
   "id": "e3824f7d",
   "metadata": {},
   "source": [
    "# Membership Operators"
   ]
  },
  {
   "cell_type": "code",
   "execution_count": 11,
   "id": "5dbae399",
   "metadata": {},
   "outputs": [
    {
     "name": "stdout",
     "output_type": "stream",
     "text": [
      "False\n",
      "False\n"
     ]
    }
   ],
   "source": [
    "word = 'Highlevelprogramminglanguage'\n",
    "print('E' in word)\n",
    "print('e' not in word)"
   ]
  },
  {
   "cell_type": "markdown",
   "id": "31fe7b02",
   "metadata": {},
   "source": [
    "# Identity Operators"
   ]
  },
  {
   "cell_type": "code",
   "execution_count": 12,
   "id": "8508461a",
   "metadata": {},
   "outputs": [
    {
     "name": "stdout",
     "output_type": "stream",
     "text": [
      "False\n",
      "True\n"
     ]
    }
   ],
   "source": [
    "print(num1 is num2)\n",
    "print(num2 is not num1)"
   ]
  },
  {
   "cell_type": "code",
   "execution_count": 15,
   "id": "b8335b9b",
   "metadata": {},
   "outputs": [
    {
     "name": "stdout",
     "output_type": "stream",
     "text": [
      "Please provide your name:87\n"
     ]
    }
   ],
   "source": [
    "name = input('Please provide your name:')"
   ]
  },
  {
   "cell_type": "code",
   "execution_count": 18,
   "id": "50d48edd",
   "metadata": {},
   "outputs": [
    {
     "name": "stdout",
     "output_type": "stream",
     "text": [
      "Please provide your age:45\n"
     ]
    }
   ],
   "source": [
    "age = int(input('Please provide your age:'))"
   ]
  },
  {
   "cell_type": "markdown",
   "id": "352dd4c7",
   "metadata": {},
   "source": [
    "# write a python program to request for cost price of  a pen, selling price and the quantity purchased \n",
    "# and calculate the profit made"
   ]
  },
  {
   "cell_type": "code",
   "execution_count": 19,
   "id": "c2b59406",
   "metadata": {},
   "outputs": [
    {
     "name": "stdout",
     "output_type": "stream",
     "text": [
      "Please provide selling price:100\n",
      "Please provide cost price:65\n",
      "Please provide quantity purchased:200\n",
      "The profit made on 200.0 pen sold for 100.0 rate is 7000.0\n"
     ]
    }
   ],
   "source": [
    "sp = float(input('Please provide selling price:'))\n",
    "cp = float(input('Please provide cost price:'))\n",
    "quant = float(input('Please provide quantity purchased:'))\n",
    "totalcp = cp * quant\n",
    "totalsp = sp * quant\n",
    "profit= totalsp - totalcp\n",
    "print(f'The profit made on {quant} pen sold for {sp} rate is {profit}')\n"
   ]
  },
  {
   "cell_type": "code",
   "execution_count": null,
   "id": "4d76c3b4",
   "metadata": {},
   "outputs": [],
   "source": []
  }
 ],
 "metadata": {
  "kernelspec": {
   "display_name": "Python 3 (ipykernel)",
   "language": "python",
   "name": "python3"
  },
  "language_info": {
   "codemirror_mode": {
    "name": "ipython",
    "version": 3
   },
   "file_extension": ".py",
   "mimetype": "text/x-python",
   "name": "python",
   "nbconvert_exporter": "python",
   "pygments_lexer": "ipython3",
   "version": "3.9.12"
  }
 },
 "nbformat": 4,
 "nbformat_minor": 5
}
