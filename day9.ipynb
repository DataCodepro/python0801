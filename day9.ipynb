{
 "cells": [
  {
   "cell_type": "code",
   "execution_count": null,
   "metadata": {},
   "outputs": [],
   "source": [
    "class phones:\n",
    "    def __init__(self,phonename,phonemodel,phoneprice,quantity):\n",
    "        self.phonename = phonename\n",
    "        self.phonemodel = phonemodel\n",
    "        self.phoneprice= phoneprice\n",
    "        self.quantity = quantity\n",
    "        \n",
    "    def getmodel(self):\n",
    "        return self.phonemodel\n",
    "    def getprice(self):\n",
    "        return self.phoneprice\n",
    "    def getquantity(self):\n",
    "        return self.quantity\n",
    "    def __str__(self):\n",
    "        return self.phonename +'::'+str(self.getmodel()) + '::'+str(self.getquantity()) + '::'+str(self.getprice()) \n",
    "def cost(rec,phonename,phonemodel,phoneprice,quantity):\n",
    "    rec.append(phones(phonename,phonemodel,phoneprice,quantity))\n",
    "    return rec\n",
    "\n",
    "record = []\n",
    "x = input('Enter y as yes and n as no to perform your operation:')\n",
    "while x =='y':\n",
    "    phonename = input('PHONE NAME:')\n",
    "    phonemodel = input('PHONE MODEL')\n",
    "    phoneprice = input('PHONE PRICE')\n",
    "    quantity = input('QUANTITY')\n",
    "    record = cost(record,phonename,phonemodel,phoneprice,quantity)\n",
    "    x = input('Enter y as yes and n as no to perform your operation:')\n",
    "n = 1\n",
    "print('========= The list of the phone avaliable in the store and their Quantity=======')\n",
    "for items in record:\n",
    "    print(n,'.',items)\n",
    "    n = n+1\n"
   ]
  },
  {
   "cell_type": "code",
   "execution_count": 1,
   "metadata": {},
   "outputs": [
    {
     "name": "stdout",
     "output_type": "stream",
     "text": [
      "You have encountered one or more errors\n"
     ]
    }
   ],
   "source": [
    "try:\n",
    "    num1 = int(input('Enter first number'))\n",
    "    num2 = int(input('Enter second number'))\n",
    "    print(num1 + num2)\n",
    "except:\n",
    "    print('You have encountered one or more errors')"
   ]
  },
  {
   "cell_type": "code",
   "execution_count": 2,
   "metadata": {},
   "outputs": [
    {
     "name": "stdout",
     "output_type": "stream",
     "text": [
      "You have Entered the wrong value only integer value is expected\n"
     ]
    }
   ],
   "source": [
    "try:\n",
    "    num1 = int(input('Enter first number'))\n",
    "    num2 = int(input('Enter second number'))\n",
    "    print(num1 + num2)\n",
    "except ValueError:\n",
    "    print('You have Entered the wrong value only integer value is expected')\n",
    "except:\n",
    "    print('You have encountered one or more errors')"
   ]
  },
  {
   "cell_type": "code",
   "execution_count": 4,
   "metadata": {},
   "outputs": [
    {
     "name": "stdout",
     "output_type": "stream",
     "text": [
      "Sorry you can not divide a number by 0\n",
      "End of program\n"
     ]
    }
   ],
   "source": [
    "try:\n",
    "    num1 = int(input('Enter first number'))\n",
    "    num2 = int(input('Enter second number'))\n",
    "    option = input('Choose the operation you want to perform (+, -, /, *)')\n",
    "    if option == '+':\n",
    "        print(f'{num1} + {num2} = {num1 + num2}')\n",
    "    elif option == '-':\n",
    "        print(f'{num1} - {num2} = {num1 - num2}')\n",
    "    elif option == '/':\n",
    "        print(f'{num1} / {num2} = {num1 / num2}')\n",
    "    elif option == '*':\n",
    "        print(f'{num1} * {num2} = {num1 * num2}')\n",
    "except ValueError:\n",
    "    print('You have Entered the wrong value only integer value is expected')\n",
    "except ZeroDivisionError:\n",
    "    print('Sorry you can not divide a number by 0')\n",
    "except:\n",
    "    print('You have encountered one or more errors')\n",
    "else:\n",
    "    print(num1 ** num2)\n",
    "finally:\n",
    "    print('End of program')"
   ]
  },
  {
   "cell_type": "code",
   "execution_count": null,
   "metadata": {},
   "outputs": [],
   "source": []
  }
 ],
 "metadata": {
  "kernelspec": {
   "display_name": "Python 3.10.4 64-bit",
   "language": "python",
   "name": "python3"
  },
  "language_info": {
   "codemirror_mode": {
    "name": "ipython",
    "version": 3
   },
   "file_extension": ".py",
   "mimetype": "text/x-python",
   "name": "python",
   "nbconvert_exporter": "python",
   "pygments_lexer": "ipython3",
   "version": "3.10.4"
  },
  "orig_nbformat": 4,
  "vscode": {
   "interpreter": {
    "hash": "97a318a1c10ea3cad32b5f740e8bef65bce9a717407c951d39899fa160feabd9"
   }
  }
 },
 "nbformat": 4,
 "nbformat_minor": 2
}
