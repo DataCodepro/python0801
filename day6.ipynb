{
 "cells": [
  {
   "cell_type": "code",
   "execution_count": 1,
   "metadata": {},
   "outputs": [],
   "source": [
    "#Function"
   ]
  },
  {
   "cell_type": "code",
   "execution_count": 7,
   "metadata": {},
   "outputs": [
    {
     "name": "stdout",
     "output_type": "stream",
     "text": [
      "Welcome to early code\n"
     ]
    }
   ],
   "source": [
    "def greet(): # a function without a parameter or arguement\n",
    "    print('Welcome to early code')\n",
    "greet()"
   ]
  },
  {
   "cell_type": "code",
   "execution_count": 11,
   "metadata": {},
   "outputs": [
    {
     "name": "stdout",
     "output_type": "stream",
     "text": [
      "Welcome to early code Simeon\n"
     ]
    }
   ],
   "source": [
    "def greet2(name):\n",
    "    print(f'Welcome to early code {name}')\n",
    "greet2('Simeon')"
   ]
  },
  {
   "cell_type": "code",
   "execution_count": 12,
   "metadata": {},
   "outputs": [
    {
     "name": "stdout",
     "output_type": "stream",
     "text": [
      "Welcome to early code Ade\n"
     ]
    }
   ],
   "source": [
    "greet2('Ade')"
   ]
  },
  {
   "cell_type": "code",
   "execution_count": 14,
   "metadata": {},
   "outputs": [
    {
     "name": "stdout",
     "output_type": "stream",
     "text": [
      "NAME:Ojo\n",
      "GENDER:Male\n",
      "AGE:35\n",
      "\n",
      "congratulations you are eligible to vote\n"
     ]
    }
   ],
   "source": [
    "def checkvote(name,gender,age):\n",
    "    print(f'''NAME:{name}\n",
    "GENDER:{gender}\n",
    "AGE:{age}\n",
    "''')\n",
    "    if age >= 18:\n",
    "        print('congratulations you are eligible to vote')\n",
    "    else:\n",
    "        print('opSSSSSS sorry you are not eligible to vote')\n",
    "checkvote('Ojo','Male',35)"
   ]
  },
  {
   "cell_type": "code",
   "execution_count": 15,
   "metadata": {},
   "outputs": [
    {
     "name": "stdout",
     "output_type": "stream",
     "text": [
      "NAME:Faith\n",
      "GENDER:Female\n",
      "AGE:14\n",
      "\n",
      "opSSSSSS sorry you are not eligible to vote\n"
     ]
    }
   ],
   "source": [
    "checkvote('Faith','Female',14)"
   ]
  },
  {
   "cell_type": "code",
   "execution_count": 17,
   "metadata": {},
   "outputs": [
    {
     "name": "stdout",
     "output_type": "stream",
     "text": [
      "NAME:Ojo\n",
      "GENDER:Male\n",
      "AGE:20\n",
      "\n",
      "congratulations you are eligible to vote\n"
     ]
    }
   ],
   "source": [
    "def checkvote(name,gender,age = 18):\n",
    "    print(f'''NAME:{name}\n",
    "GENDER:{gender}\n",
    "AGE:{age}\n",
    "''')\n",
    "    if age >= 18:\n",
    "        print('congratulations you are eligible to vote')\n",
    "    else:\n",
    "        print('opSSSSSS sorry you are not eligible to vote')\n",
    "checkvote('Ojo','Male',20)"
   ]
  },
  {
   "cell_type": "code",
   "execution_count": 20,
   "metadata": {},
   "outputs": [
    {
     "name": "stdout",
     "output_type": "stream",
     "text": [
      "<class 'tuple'>\n",
      "Average of 10 numbers which are (24, 52, 58, 96, 32, 98, 65, 52, 14, 21) is 51.2\n"
     ]
    }
   ],
   "source": [
    "def average(*num):\n",
    "    print(type(num))\n",
    "    print(f'Average of {len(num)} numbers which are {num} is {sum(num)/len(num)}')\n",
    "average(24,52,58,96,32,98,65,52,14,21)"
   ]
  },
  {
   "cell_type": "code",
   "execution_count": 21,
   "metadata": {},
   "outputs": [
    {
     "name": "stdout",
     "output_type": "stream",
     "text": [
      "<class 'tuple'>\n",
      "Average of 5 numbers which are (87, 80, 56, 98, 52) is 74.6\n"
     ]
    }
   ],
   "source": [
    "numbers= [87,80,56,98,52]\n",
    "average(*numbers)"
   ]
  },
  {
   "cell_type": "code",
   "execution_count": 22,
   "metadata": {},
   "outputs": [
    {
     "name": "stdout",
     "output_type": "stream",
     "text": [
      "<class 'dict'>\n",
      "Name ::: Paul\n",
      "Gender ::: Male\n",
      "Age ::: 45\n"
     ]
    }
   ],
   "source": [
    "def records(**details):\n",
    "    print(type(details))\n",
    "    for key,values in details.items():\n",
    "        print(f'{key} ::: {values}')\n",
    "records(Name='Paul',Gender='Male',Age=45)"
   ]
  },
  {
   "cell_type": "code",
   "execution_count": 24,
   "metadata": {},
   "outputs": [
    {
     "name": "stdout",
     "output_type": "stream",
     "text": [
      "Player One score:5\n",
      "Player Two score:4\n",
      "PLAYER ONE WINS!!!!!!!!!!\n",
      "Player One score:7\n",
      "Player Two score:8\n",
      "PLAYER TWO WINS!!!!!!!!!!\n",
      "Player One score:7\n",
      "Player Two score:5\n",
      "PLAYER ONE WINS!!!!!!!!!!\n",
      "Player One score:8\n",
      "Player Two score:4\n",
      "PLAYER ONE WINS!!!!!!!!!!\n",
      "Player One score:11\n",
      "Player Two score:9\n",
      "PLAYER ONE WINS!!!!!!!!!!\n",
      "Player One score:8\n",
      "Player Two score:9\n",
      "PLAYER TWO WINS!!!!!!!!!!\n",
      "Player One score:11\n",
      "Player Two score:6\n",
      "PLAYER ONE WINS!!!!!!!!!!\n",
      "Player One score:2\n",
      "Player Two score:6\n",
      "PLAYER TWO WINS!!!!!!!!!!\n",
      "Player One score:4\n",
      "Player Two score:9\n",
      "PLAYER TWO WINS!!!!!!!!!!\n",
      "Player One score:3\n",
      "Player Two score:7\n",
      "PLAYER TWO WINS!!!!!!!!!!\n",
      "IT IS A DRAW !!!!!!!!!! as both player have same score\n"
     ]
    }
   ],
   "source": [
    "\n",
    "def roll_a_dice():\n",
    "  import random as rn\n",
    "  playeronescore = 0\n",
    "  playertwoscore = 0\n",
    "  \n",
    "  for i in range(1,11):\n",
    "      dice1 =rn.randint(1,6)  + rn.randint(1,6)  \n",
    "      dice2 =rn.randint(1,6)  + rn.randint(1,6) \n",
    "      if dice1 > dice2:\n",
    "          print(f'Player One score:{dice1}') \n",
    "          print(f'Player Two score:{dice2}') \n",
    "          print('PLAYER ONE WINS!!!!!!!!!!')\n",
    "          playeronescore = playeronescore + 5\n",
    "      elif dice2 > dice1:\n",
    "         print(f'Player One score:{dice1}') \n",
    "         print(f'Player Two score:{dice2}') \n",
    "         print('PLAYER TWO WINS!!!!!!!!!!')\n",
    "         playertwoscore = playertwoscore + 5\n",
    "      else:\n",
    "          print(f'Player One score:{dice1}') \n",
    "          print(f'Player Two score:{dice2}') \n",
    "          print('IT IS A DRAW !!!!!!!!!!')\n",
    "          playeronescore = playeronescore + 2\n",
    "          playertwoscore = playertwoscore + 2\n",
    "  if playeronescore > playertwoscore:\n",
    "      print(f'Player One is the overall winner by a total score of {playeronescore}')\n",
    "  elif playertwoscore > playeronescore:\n",
    "      print(f'Player Two is the overall winner by a total score of {playertwoscore}')\n",
    "  else:\n",
    "      print('IT IS A DRAW !!!!!!!!!! as both player have same score')\n",
    "roll_a_dice()"
   ]
  },
  {
   "cell_type": "code",
   "execution_count": null,
   "metadata": {},
   "outputs": [],
   "source": []
  }
 ],
 "metadata": {
  "kernelspec": {
   "display_name": "Python 3.10.4 64-bit",
   "language": "python",
   "name": "python3"
  },
  "language_info": {
   "codemirror_mode": {
    "name": "ipython",
    "version": 3
   },
   "file_extension": ".py",
   "mimetype": "text/x-python",
   "name": "python",
   "nbconvert_exporter": "python",
   "pygments_lexer": "ipython3",
   "version": "3.10.4"
  },
  "orig_nbformat": 4,
  "vscode": {
   "interpreter": {
    "hash": "97a318a1c10ea3cad32b5f740e8bef65bce9a717407c951d39899fa160feabd9"
   }
  }
 },
 "nbformat": 4,
 "nbformat_minor": 2
}
