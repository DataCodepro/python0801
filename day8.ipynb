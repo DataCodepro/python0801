{
 "cells": [
  {
   "cell_type": "code",
   "execution_count": 2,
   "metadata": {},
   "outputs": [
    {
     "data": {
      "text/plain": [
       "'Mammal'"
      ]
     },
     "execution_count": 2,
     "metadata": {},
     "output_type": "execute_result"
    }
   ],
   "source": [
    "#class and object\n",
    "class dog:\n",
    "    attr1 = 'Mammal'\n",
    "    attr2 = 'bark'\n",
    "rocky = dog()\n",
    "rocky.attr1"
   ]
  },
  {
   "cell_type": "code",
   "execution_count": 5,
   "metadata": {},
   "outputs": [
    {
     "name": "stdout",
     "output_type": "stream",
     "text": [
      "I belong to the family of Mammal\n"
     ]
    }
   ],
   "source": [
    "class dog:\n",
    "    attr1 = 'Mammal'\n",
    "    attr2 = 'bark'\n",
    "    def family(self):\n",
    "        print(f'I belong to the family of {self.attr1}')\n",
    "rocky = dog()\n",
    "rocky.family()"
   ]
  },
  {
   "cell_type": "code",
   "execution_count": 1,
   "metadata": {},
   "outputs": [
    {
     "name": "stdout",
     "output_type": "stream",
     "text": [
      "BOOM!!!!!!!!!!!!!!!!!!!!!!!!!!!!!!!!!!!!!!!!!!!!!!!!!!!!\n",
      "Audi F5 has started\n",
      "None\n",
      "Gear placed on 3\n",
      "None\n",
      "Nitro engagged\n",
      "None\n",
      "BOOM!!!!!!!!!!!!!!!!!!!!!!!!!!!!!!!!!!!!!!!!!!!!!!!!!!!!\n",
      "Audi F5 has Stopped\n",
      "GAME OVER!!!!!!!!!!!!!!!!!!!!!!!!!!!!!\n",
      "None\n"
     ]
    }
   ],
   "source": [
    "class carsimulation:\n",
    "    def __init__(self,brand,model,color,year,speed):\n",
    "        self.brand = brand\n",
    "        self.model = model\n",
    "        self.color = color\n",
    "        self.year = year\n",
    "        self.speed = speed\n",
    "    def start(self):\n",
    "        print('BOOM!!!!!!!!!!!!!!!!!!!!!!!!!!!!!!!!!!!!!!!!!!!!!!!!!!!!')\n",
    "        print(f'{self.brand} {self.model} has started')\n",
    "    def gear(self):\n",
    "        option = int(input('Please select a gear:'))\n",
    "        if option == 1:\n",
    "            print('Gear placed on 1')\n",
    "        elif option ==2:\n",
    "            print('Gear placed on 2')\n",
    "        elif option ==3:\n",
    "            print('Gear placed on 3')\n",
    "        elif option ==4:\n",
    "            print('Gear placed on 4')\n",
    "        elif option ==5:\n",
    "            print('Gear placed on 5')\n",
    "        elif option ==6:\n",
    "            print('Gear placed on reverse')\n",
    "        else:\n",
    "            print('Invalid gear option')\n",
    "    def accelerate(self, option):\n",
    "        if option == 1:\n",
    "            print('Nitro engagged')\n",
    "        elif option == 2:\n",
    "            print('Nitro disengagged')\n",
    "        else:\n",
    "            print('Inavlid Nitro option')\n",
    "    def stop(self):\n",
    "        print('BOOM!!!!!!!!!!!!!!!!!!!!!!!!!!!!!!!!!!!!!!!!!!!!!!!!!!!!')\n",
    "        print(f'{self.brand} {self.model} has Stopped')\n",
    "        print('GAME OVER!!!!!!!!!!!!!!!!!!!!!!!!!!!!!')\n",
    "car1 = carsimulation('Audi','F5','Black',2018,250)\n",
    "print(car1.start())\n",
    "print(car1.gear())\n",
    "print(car1.accelerate(1))\n",
    "print(car1.stop())"
   ]
  },
  {
   "cell_type": "code",
   "execution_count": 2,
   "metadata": {},
   "outputs": [
    {
     "name": "stdout",
     "output_type": "stream",
     "text": [
      "BOOM!!!!!!!!!!!!!!!!!!!!!!!!!!!!!!!!!!!!!!!!!!!!!!!!!!!!\n",
      "Lambogini Mercelado has started\n",
      "None\n",
      "Gear placed on 4\n",
      "None\n",
      "Nitro engagged\n",
      "None\n",
      "Roof Openned\n",
      "None\n",
      "BOOM!!!!!!!!!!!!!!!!!!!!!!!!!!!!!!!!!!!!!!!!!!!!!!!!!!!!\n",
      "Lambogini Mercelado has Stopped\n",
      "GAME OVER!!!!!!!!!!!!!!!!!!!!!!!!!!!!!\n",
      "None\n"
     ]
    }
   ],
   "source": [
    "class finalsimulation(carsimulation):\n",
    "    def openroof(self, option):\n",
    "        if option == 1:\n",
    "            print('Roof Openned')\n",
    "        elif option == 2:\n",
    "            print('Roof Closed')\n",
    "        else:\n",
    "            print('Inavlid Roof option')\n",
    "car2 = finalsimulation('Lambogini','Mercelado','Yellow',2021,450)\n",
    "print(car2.start())\n",
    "print(car2.gear())\n",
    "print(car2.accelerate(1))\n",
    "print(car2.openroof(1))\n",
    "print(car2.stop())"
   ]
  },
  {
   "cell_type": "code",
   "execution_count": null,
   "metadata": {},
   "outputs": [],
   "source": []
  }
 ],
 "metadata": {
  "kernelspec": {
   "display_name": "Python 3.9.12 ('base')",
   "language": "python",
   "name": "python3"
  },
  "language_info": {
   "codemirror_mode": {
    "name": "ipython",
    "version": 3
   },
   "file_extension": ".py",
   "mimetype": "text/x-python",
   "name": "python",
   "nbconvert_exporter": "python",
   "pygments_lexer": "ipython3",
   "version": "3.9.12"
  },
  "orig_nbformat": 4,
  "vscode": {
   "interpreter": {
    "hash": "7c5b4b5f72701d0da4703e0631ab80e1a1879b4a1224ff4bb856e690b4256287"
   }
  }
 },
 "nbformat": 4,
 "nbformat_minor": 2
}
