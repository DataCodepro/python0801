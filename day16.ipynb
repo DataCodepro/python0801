{
 "cells": [
  {
   "cell_type": "code",
   "execution_count": 1,
   "metadata": {},
   "outputs": [],
   "source": [
    "#Write a Python function  to reverse a string.\n",
    "#Write a Python function that takes a list and returns a new list with unique elements of the first list.\n",
    "#Write a Python function to print the even numbers from a given list.\n",
    "#Write a Python function to create and print a list where the values are square of numbers between 1 and 30 (both included)\n",
    "#Write a Python function that invoke a given function after specific milliseconds."
   ]
  },
  {
   "cell_type": "code",
   "execution_count": 9,
   "metadata": {},
   "outputs": [
    {
     "data": {
      "text/plain": [
       "'body'"
      ]
     },
     "execution_count": 9,
     "metadata": {},
     "output_type": "execute_result"
    }
   ],
   "source": [
    "#QUESTION ONE Answer one\n",
    "def string_reverse(str):\n",
    "    rstr1 = ''\n",
    "    index = len(str)\n",
    "    while index > 0:\n",
    "        rstr1 += str[ index - 1 ]\n",
    "        index = index - 1\n",
    "    return rstr1\n",
    "string_reverse('ydob')"
   ]
  },
  {
   "cell_type": "code",
   "execution_count": 10,
   "metadata": {},
   "outputs": [
    {
     "data": {
      "text/plain": [
       "'body'"
      ]
     },
     "execution_count": 10,
     "metadata": {},
     "output_type": "execute_result"
    }
   ],
   "source": [
    "#QUESTION ONE Answer Two\n",
    "def string_reverse(str):\n",
    "    return(str[::-1])\n",
    "string_reverse('ydob')"
   ]
  },
  {
   "cell_type": "code",
   "execution_count": 11,
   "metadata": {},
   "outputs": [
    {
     "data": {
      "text/plain": [
       "[1, 4, 2, 5, 3, 6, 8]"
      ]
     },
     "execution_count": 11,
     "metadata": {},
     "output_type": "execute_result"
    }
   ],
   "source": [
    "def unique(num):\n",
    "    x = []\n",
    "    for i in num:\n",
    "        if i not in x:\n",
    "            x.append(i)\n",
    "    return(x)\n",
    "unique([1,4,4,2,5,5,3,6,5,8])"
   ]
  },
  {
   "cell_type": "code",
   "execution_count": 13,
   "metadata": {},
   "outputs": [
    {
     "data": {
      "text/plain": [
       "[58, 96, 52, 36, 98, 74, 58, 80, 56]"
      ]
     },
     "execution_count": 13,
     "metadata": {},
     "output_type": "execute_result"
    }
   ],
   "source": [
    "def even(num):\n",
    "    evenlist = []\n",
    "    for i in num:\n",
    "        if i % 2 == 0:\n",
    "            evenlist.append(i)\n",
    "    return(evenlist)\n",
    "even([47,58,96,52,36,98,74,58,89,80,56,95])"
   ]
  },
  {
   "cell_type": "code",
   "execution_count": 17,
   "metadata": {},
   "outputs": [
    {
     "name": "stdout",
     "output_type": "stream",
     "text": [
      "[1, 4, 9, 16, 25, 36, 49, 64, 81, 100, 121, 144, 169, 196, 225, 256, 289, 324, 361, 400, 441, 484, 529, 576, 625, 676, 729, 784, 841, 900]\n"
     ]
    }
   ],
   "source": [
    "def square():\n",
    "    output = []\n",
    "    for i in range(1,31):\n",
    "        output.append(i**2)\n",
    "    print(output)\n",
    "square()"
   ]
  },
  {
   "cell_type": "code",
   "execution_count": 18,
   "metadata": {},
   "outputs": [
    {
     "name": "stdout",
     "output_type": "stream",
     "text": [
      "Square root after specific miliseconds:\n",
      "4.0\n",
      "10.0\n",
      "158.42979517754858\n"
     ]
    }
   ],
   "source": [
    "from time import sleep\n",
    "import math\n",
    "def delay(fn, ms, *args):\n",
    "  sleep(ms / 1000)\n",
    "  return fn(*args)\n",
    "print(\"Square root after specific miliseconds:\") \n",
    "print(delay(lambda x: math.sqrt(x), 100, 16))\n",
    "print(delay(lambda x: math.sqrt(x), 1000, 100))\n",
    "print(delay(lambda x: math.sqrt(x), 2000, 25100))"
   ]
  },
  {
   "cell_type": "code",
   "execution_count": 19,
   "metadata": {},
   "outputs": [],
   "source": [
    "#File Handling\n",
    "#Access mode are as follows\n",
    "# w : write\n",
    "# r : read\n",
    "# a : append\n",
    "# r+ : read&write"
   ]
  },
  {
   "cell_type": "code",
   "execution_count": 21,
   "metadata": {},
   "outputs": [],
   "source": [
    "file = open('demo.txt','w')\n",
    "file.write('''#Write a Python function  to reverse a string.\n",
    "#Write a Python function that takes a list and returns a new list with unique elements of the first list.\n",
    "#Write a Python function to print the even numbers from a given list.\n",
    "''')\n",
    "file.close()"
   ]
  },
  {
   "cell_type": "code",
   "execution_count": 22,
   "metadata": {},
   "outputs": [
    {
     "name": "stdout",
     "output_type": "stream",
     "text": [
      "#Write a Python function  to reverse a string.\n",
      "#Write a Python function that takes a list and returns a new list with unique elements of the first list.\n",
      "#Write a Python function to print the even numbers from a given list.\n",
      "\n"
     ]
    }
   ],
   "source": [
    "file = open('demo.txt','r')\n",
    "print(file.read())\n",
    "file.close()"
   ]
  },
  {
   "cell_type": "code",
   "execution_count": 26,
   "metadata": {},
   "outputs": [
    {
     "name": "stdout",
     "output_type": "stream",
     "text": [
      "print('Hello World')\n",
      "#Variables\n",
      "num =15\n",
      "num2 =15.5\n",
      "firstname = 'Taiwo'\n",
      "x = True\n",
      "\n",
      "\n",
      "#Escape Character\n",
      "word = 'we\\'re brothers from the other side of the town'\n",
      "print(word)\n",
      "word2 = \"we're brothers from the other side of the town\"\n",
      "print(word2)\n",
      "\n",
      "# New Line\n",
      "word3 = 'python is a programming language\\npython is easy\\nand python is fun'\n",
      "print(word3)\n",
      "print('\\n')\n",
      "#Multiline String\n",
      "word4 = '''python is a programming language\n",
      "python is easy\n",
      "and python is fun\n",
      "'''\n",
      "print(word4)\n",
      "#String Concentenation\n",
      "print('hello' + ' '+'world')# joining of string and string\n",
      "print('my name is'+' '+firstname)#joining of string and variable also holding a string value\n",
      "surname  = 'Paul'\n",
      "print(surname + ' '+ firstname)#joining of variable and variable also holding a string value\n",
      "\n",
      "#string formatting\n",
      "price1 = 25000\n",
      "price2 = 15000\n",
      "price3 = 45000\n",
      "report = 'I sold a pair of shoe for {}, 3 shirts for {} and a suit for {}'\n",
      "print(report.format(price1,price2,price3))\n",
      "print(f'I sold a pair of shoe for {price2}, 3 shirts for {price1} and a suit for {price3}')\n",
      "\n",
      "#String Method\n",
      "word5 = 'python'\n",
      "word6 = 'PYTHON'\n",
      "word7 = 'python is fun'\n",
      "word8 = '  info'\n",
      "print(word5.upper())\n",
      "print(word6.lower())\n",
      "print(word7.title())\n",
      "print(word7.capitalize())\n",
      "print(word7.split())\n",
      "print(word8.strip())\n",
      "\n",
      "\n",
      "\n",
      "\n",
      "\n",
      "\n",
      "\n"
     ]
    }
   ],
   "source": [
    "file = open('day1.py','r')\n",
    "print(file.read())\n",
    "file.close()"
   ]
  },
  {
   "cell_type": "code",
   "execution_count": 27,
   "metadata": {},
   "outputs": [],
   "source": [
    "file = open('demo.txt','a')\n",
    "file.write('\\n#Write a Python function to create and print a list where the values are square of numbers between 1 and 30 (both included)')\n",
    "file.close()"
   ]
  },
  {
   "cell_type": "code",
   "execution_count": 28,
   "metadata": {},
   "outputs": [
    {
     "name": "stdout",
     "output_type": "stream",
     "text": [
      "#Write a Python function  to reverse a string.\n",
      "#Write a Python function that takes a list and returns a new list with unique elements of the first list.\n",
      "#Write a Python function to print the even numbers from a given list.\n",
      "\n",
      "#Write a Python function to create and print a list where the values are square of numbers between 1 and 30 (both included)\n"
     ]
    }
   ],
   "source": [
    "file=open('demo.txt','r+')\n",
    "print(file.read())\n",
    "file.write('\\n#Write a Python function that invoke a given function after specific milliseconds.')\n",
    "file.close()"
   ]
  },
  {
   "cell_type": "code",
   "execution_count": null,
   "metadata": {},
   "outputs": [],
   "source": []
  }
 ],
 "metadata": {
  "kernelspec": {
   "display_name": "Python 3.10.4 64-bit",
   "language": "python",
   "name": "python3"
  },
  "language_info": {
   "codemirror_mode": {
    "name": "ipython",
    "version": 3
   },
   "file_extension": ".py",
   "mimetype": "text/x-python",
   "name": "python",
   "nbconvert_exporter": "python",
   "pygments_lexer": "ipython3",
   "version": "3.10.4"
  },
  "orig_nbformat": 4,
  "vscode": {
   "interpreter": {
    "hash": "97a318a1c10ea3cad32b5f740e8bef65bce9a717407c951d39899fa160feabd9"
   }
  }
 },
 "nbformat": 4,
 "nbformat_minor": 2
}
