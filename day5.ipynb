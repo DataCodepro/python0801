{
 "cells": [
  {
   "cell_type": "markdown",
   "metadata": {},
   "source": [
    "# loops "
   ]
  },
  {
   "cell_type": "code",
   "execution_count": 1,
   "metadata": {},
   "outputs": [
    {
     "name": "stdout",
     "output_type": "stream",
     "text": [
      "ppp\n",
      "yyy\n",
      "ttt\n",
      "hhh\n",
      "ooo\n",
      "nnn\n"
     ]
    }
   ],
   "source": [
    "word = 'python'\n",
    "for char in word:\n",
    "    print(char * 3)"
   ]
  },
  {
   "cell_type": "code",
   "execution_count": 6,
   "metadata": {},
   "outputs": [
    {
     "name": "stdout",
     "output_type": "stream",
     "text": [
      "ppp yyy ttt hhh ooo nnn "
     ]
    }
   ],
   "source": [
    "word = 'python'\n",
    "for char in word:\n",
    "    print(char * 3,end=' ')"
   ]
  },
  {
   "cell_type": "code",
   "execution_count": 7,
   "metadata": {},
   "outputs": [
    {
     "name": "stdout",
     "output_type": "stream",
     "text": [
      "congratulation 08023569878 your registration is successful.\n",
      "congratulation 09025698745 your registration is successful.\n",
      "congratulation 07045698778 your registration is successful.\n",
      "congratulation 09145632122 your registration is successful.\n",
      "congratulation 08145698778 your registration is successful.\n"
     ]
    }
   ],
   "source": [
    "phonenumber =['08023569878','09025698745','07045698778','09145632122','08145698778']\n",
    "for numbers in phonenumber:\n",
    "    print(f'congratulation {numbers} your registration is successful.')"
   ]
  },
  {
   "cell_type": "code",
   "execution_count": 9,
   "metadata": {},
   "outputs": [
    {
     "name": "stdout",
     "output_type": "stream",
     "text": [
      "Record found, Your score in the following subject (Math,English,Chemistry,Biology and Agric) are as follows [68, 92, 77, 70, 78]\n"
     ]
    }
   ],
   "source": [
    "student_records = {\n",
    "    'Samuel':[98,48,55,60,90],\n",
    "    'Hope':[78,77,80,92,65],\n",
    "    'Jane':[70,100,66,78,90],\n",
    "    'John':[68,92,77,70,78],\n",
    "    'Faith':[90,90,95,96,99]\n",
    "}\n",
    "name = input('Please provide your name:')\n",
    "for key in student_records:\n",
    "    if name == key:\n",
    "        print(f'Record found, Your score in the following subject (Math,English,Chemistry,Biology and Agric) are as follows {student_records[key]}')"
   ]
  },
  {
   "cell_type": "code",
   "execution_count": 12,
   "metadata": {},
   "outputs": [
    {
     "name": "stdout",
     "output_type": "stream",
     "text": [
      "Record found, Your score in the following subject (Math,English,Chemistry,Biology and Agric) are as follows [70, 100, 66, 78, 90]\n",
      "Record not found\n"
     ]
    }
   ],
   "source": [
    "student_records = {\n",
    "    'Samuel':[98,48,55,60,90],\n",
    "    'Hope':[78,77,80,92,65],\n",
    "    'Jane':[70,100,66,78,90],\n",
    "    'John':[68,92,77,70,78],\n",
    "    'Faith':[90,90,95,96,99]\n",
    "}\n",
    "name = input('Please provide your name:')\n",
    "for key in student_records:\n",
    "    if name == key:\n",
    "        print(f'Record found, Your score in the following subject (Math,English,Chemistry,Biology and Agric) are as follows {student_records[key]}')\n",
    "else:\n",
    "    print('Record not found')"
   ]
  },
  {
   "cell_type": "code",
   "execution_count": null,
   "metadata": {},
   "outputs": [],
   "source": [
    "student_records = {\n",
    "    'Samuel':[98,48,55,60,90],\n",
    "    'Hope':[78,77,80,92,65],\n",
    "    'Jane':[70,100,66,78,90],\n",
    "    'John':[68,92,77,70,78],\n",
    "    'Faith':[90,90,95,96,99]\n",
    "}\n",
    "name = input('Please provide your name:')\n",
    "for key in student_records:\n",
    "    if name == key:\n",
    "        print(f'Record found, Your score in the following subject (Math,English,Chemistry,Biology and Agric) are as follows {student_records[key]}')\n",
    "        break\n",
    "else:\n",
    "    print('Record not found')"
   ]
  },
  {
   "cell_type": "code",
   "execution_count": null,
   "metadata": {},
   "outputs": [],
   "source": [
    "student_records = {\n",
    "    'Samuel':[98,48,55,60,90],\n",
    "    'Hope':[78,77,80,92,65],\n",
    "    'Jane':[70,100,66,78,90],\n",
    "    'John':[68,92,77,70,78],\n",
    "    'Faith':[90,90,95,96,99]\n",
    "}\n",
    "name = input('Please provide your name:')\n",
    "for key in student_records:\n",
    "    if name == key:\n",
    "        print(f'Record found, Your score in the following subject (Math,English,Chemistry,Biology and Agric) are as follows {student_records[key]}')\n",
    "        continue\n",
    "else:\n",
    "    print('Record not found')"
   ]
  },
  {
   "cell_type": "code",
   "execution_count": 13,
   "metadata": {},
   "outputs": [
    {
     "name": "stdout",
     "output_type": "stream",
     "text": [
      "The sqrt of 45 is 6.708203932499369\n",
      "The sqrt of 78 is 8.831760866327848\n",
      "The sqrt of 400 is 20.0\n",
      "The sqrt of 250 is 15.811388300841896\n",
      "The sqrt of 250 is 15.811388300841896\n"
     ]
    }
   ],
   "source": [
    "import math\n",
    "num = int(input('Please provide a number:'))\n",
    "counter = 1\n",
    "while num != 0:\n",
    "    print(f'The sqrt of {num} is {math.sqrt(num)}')\n",
    "    counter = counter + 1\n",
    "    num = int(input('Please provide a number:'))"
   ]
  },
  {
   "cell_type": "code",
   "execution_count": 14,
   "metadata": {},
   "outputs": [
    {
     "name": "stdout",
     "output_type": "stream",
     "text": [
      "[27, 44, 38, 48, 44, 26, 47, 46, 47, 26, 42, 39, 37, 27, 33, 28, 42, 28, 39, 31, 36, 37, 33, 48, 38, 42, 40, 45, 39, 44, 31, 48, 26, 46, 29, 26, 48, 36, 33, 36, 42, 38, 28, 46, 26, 27, 35, 26, 36, 38]\n"
     ]
    }
   ],
   "source": [
    "numbers = []\n",
    "import random\n",
    "counter = 1\n",
    "while counter <=50:\n",
    "    num = random.randint(25,48)\n",
    "    numbers.append(num)\n",
    "    counter +=1\n",
    "print(numbers)"
   ]
  },
  {
   "cell_type": "code",
   "execution_count": 19,
   "metadata": {},
   "outputs": [
    {
     "name": "stdout",
     "output_type": "stream",
     "text": [
      "YOUR DECK OF CARDS IS:::::\n",
      "5 of Heart\n",
      "8 of Diamond\n",
      "13 of Spade\n",
      "4 of Club\n",
      "7 of Spade\n"
     ]
    }
   ],
   "source": [
    "#IMPORTING THE NEEDED MODULES\n",
    "import itertools, random\n",
    "#MAKING A DECK CARDS\n",
    "Deck=list(itertools.product(range(1,14),['Spade','Heart','Diamond','Club']))\n",
    "#SHUFFLING THE DECK OF CARDS\n",
    "random.shuffle(Deck)\n",
    "#PRINTING OUT FIVE RANDOM CARDS FROM THE DECK\n",
    "print('YOUR DECK OF CARDS IS:::::')\n",
    "for i in range(1,6):\n",
    "    print(Deck[i][0], 'of',Deck[i][1])"
   ]
  },
  {
   "cell_type": "code",
   "execution_count": null,
   "metadata": {},
   "outputs": [],
   "source": []
  }
 ],
 "metadata": {
  "kernelspec": {
   "display_name": "Python 3.10.4 64-bit",
   "language": "python",
   "name": "python3"
  },
  "language_info": {
   "codemirror_mode": {
    "name": "ipython",
    "version": 3
   },
   "file_extension": ".py",
   "mimetype": "text/x-python",
   "name": "python",
   "nbconvert_exporter": "python",
   "pygments_lexer": "ipython3",
   "version": "3.10.4"
  },
  "orig_nbformat": 4,
  "vscode": {
   "interpreter": {
    "hash": "97a318a1c10ea3cad32b5f740e8bef65bce9a717407c951d39899fa160feabd9"
   }
  }
 },
 "nbformat": 4,
 "nbformat_minor": 2
}
