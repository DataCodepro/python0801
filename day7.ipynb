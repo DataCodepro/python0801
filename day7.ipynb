{
 "cells": [
  {
   "cell_type": "code",
   "execution_count": null,
   "metadata": {},
   "outputs": [],
   "source": [
    "#Function continue\n",
    "from 70 to  100 grade is A\n",
    "\n",
    "60 to 60.99 grade is B\n",
    "\n",
    "50 to 59.99 grade is C\n",
    "\n",
    "40 to 49.99 grade is D\n",
    "\n",
    "31 to 39.99 grade is E\n",
    "\n",
    "0 to 30 grade is f"
   ]
  },
  {
   "cell_type": "code",
   "execution_count": 1,
   "metadata": {},
   "outputs": [
    {
     "name": "stdout",
     "output_type": "stream",
     "text": [
      "Your Average score in 8 subject is 69.875, Your grade is B\n"
     ]
    }
   ],
   "source": [
    "def grade_checking():\n",
    "    sub1 = int(input('Math score'))\n",
    "    sub2 = int(input('English score'))\n",
    "    sub3 = int(input('Chemistry score'))\n",
    "    sub4 = int(input('Biology score'))\n",
    "    sub5 = int(input('Physics score'))\n",
    "    sub6 = int(input('Geography score'))\n",
    "    sub7 = int(input('Agric score'))\n",
    "    sub8 = int(input('Economics score'))\n",
    "    avg = (sub1 +sub2+sub3+sub4+sub5+sub6+sub7+sub8)/8\n",
    "    if avg >= 70 and avg <= 100:\n",
    "        print(f'Your Average score in 8 subject is {avg}, Your grade is A')\n",
    "    elif  avg >= 60 and avg <= 69.99:\n",
    "        print(f'Your Average score in 8 subject is {avg}, Your grade is B')\n",
    "    elif  avg >= 50 and avg <= 59.99:\n",
    "        print(f'Your Average score in 8 subject is {avg}, Your grade is C')\n",
    "    elif  avg >= 40 and avg <= 49.99:\n",
    "        print(f'Your Average score in 8 subject is {avg}, Your grade is D')\n",
    "    elif  avg >= 31 and avg <= 39.99:\n",
    "        print(f'Your Average score in 8 subject is {avg}, Your grade is E')\n",
    "    else:\n",
    "        print(f'Your Average score in 8 subject is {avg}, Your grade is F')\n",
    "grade_checking()\n"
   ]
  },
  {
   "cell_type": "code",
   "execution_count": 2,
   "metadata": {},
   "outputs": [
    {
     "data": {
      "text/plain": [
       "72"
      ]
     },
     "execution_count": 2,
     "metadata": {},
     "output_type": "execute_result"
    }
   ],
   "source": [
    "(lambda x,y:x*y)(8,9)"
   ]
  },
  {
   "cell_type": "code",
   "execution_count": 4,
   "metadata": {},
   "outputs": [
    {
     "data": {
      "text/plain": [
       "'Simeon start with a uppercase letter'"
      ]
     },
     "execution_count": 4,
     "metadata": {},
     "output_type": "execute_result"
    }
   ],
   "source": [
    "#Write a python program to check if the first character of a name entered by a user is in upper case\n",
    "(lambda name:f'{name} start with a uppercase letter' if name[0] == name[0].upper() else f'{name} does not start with a uppercase letter')(input('Please provide a name'))"
   ]
  },
  {
   "cell_type": "code",
   "execution_count": 9,
   "metadata": {},
   "outputs": [
    {
     "data": {
      "text/plain": [
       "'Login Successful'"
      ]
     },
     "execution_count": 9,
     "metadata": {},
     "output_type": "execute_result"
    }
   ],
   "source": [
    "#Write a lambda function to check if a password meet the following requirement\n",
    "#lenght of 10 and above\n",
    "#Startwith with an uppercase and\n",
    "#ends with a digit (0-5)\n",
    "(lambda username, password:f'Login Successful' if password[0] == password[0].upper() and len(password) >=10 and password[-1] == '0' or   password[-1] == '1' or  password[-1] == '2' or  password[-1] == '3' or  password[-1] == '4' or  password[-1] == '5' else f'Invalid Login')(input('Please provide Your username'),input('Please provide your Password'))"
   ]
  },
  {
   "cell_type": "code",
   "execution_count": 14,
   "metadata": {},
   "outputs": [
    {
     "name": "stdout",
     "output_type": "stream",
     "text": [
      "['BINGO', 'BARRY', 'ROCKY', 'ROOTLESS', 'SHANKO', 'SMALL', 'BOOT']\n"
     ]
    }
   ],
   "source": [
    "dogs = ['bingo','barry','rocky','Rootless','shanko','small','boot']\n",
    "\n",
    "update_dogs = list(map(lambda x: str.upper(x),dogs))\n",
    "print(update_dogs)"
   ]
  },
  {
   "cell_type": "code",
   "execution_count": 15,
   "metadata": {},
   "outputs": [
    {
     "name": "stdout",
     "output_type": "stream",
     "text": [
      "[55, 65, 63, 58, 69, 50, 66, 51, 45, 60, 49, 67, 73, 68, 67, 45, 74, 56, 49, 50, 59, 64, 76, 46, 47, 62, 50, 66, 76, 60, 60, 74, 58, 54, 72, 69, 58, 68, 51, 75, 67, 52, 80, 46, 55, 60, 72, 52, 47, 75, 65, 59, 70, 49, 77, 67, 58, 73, 57, 63, 68, 59, 80, 49, 76, 50, 73, 59, 78, 46]\n"
     ]
    }
   ],
   "source": [
    "import random \n",
    "numbers = []\n",
    "counter =1\n",
    "while counter <= 70:\n",
    "    num = random.randint(45,80)\n",
    "    numbers.append(num)\n",
    "    counter += 1\n",
    "print(numbers)\n",
    "from math import log\n",
    "numbers_update = list(map(lambda x: log(x),numbers))\n",
    "print(numbers_update)     "
   ]
  },
  {
   "cell_type": "code",
   "execution_count": 16,
   "metadata": {},
   "outputs": [
    {
     "name": "stdout",
     "output_type": "stream",
     "text": [
      "[65, 63, 69, 66, 60, 67, 73, 68, 67, 74, 64, 76, 62, 66, 76, 60, 60, 74, 72, 69, 68, 75, 67, 80, 60, 72, 75, 65, 70, 77, 67, 73, 63, 68, 80, 76, 73, 78]\n"
     ]
    }
   ],
   "source": [
    "numbers_update = list(filter(lambda x: x >= 60,numbers))\n",
    "print(numbers_update)    "
   ]
  },
  {
   "cell_type": "code",
   "execution_count": null,
   "metadata": {},
   "outputs": [],
   "source": []
  }
 ],
 "metadata": {
  "kernelspec": {
   "display_name": "Python 3.10.4 64-bit",
   "language": "python",
   "name": "python3"
  },
  "language_info": {
   "codemirror_mode": {
    "name": "ipython",
    "version": 3
   },
   "file_extension": ".py",
   "mimetype": "text/x-python",
   "name": "python",
   "nbconvert_exporter": "python",
   "pygments_lexer": "ipython3",
   "version": "3.10.4"
  },
  "orig_nbformat": 4,
  "vscode": {
   "interpreter": {
    "hash": "97a318a1c10ea3cad32b5f740e8bef65bce9a717407c951d39899fa160feabd9"
   }
  }
 },
 "nbformat": 4,
 "nbformat_minor": 2
}
